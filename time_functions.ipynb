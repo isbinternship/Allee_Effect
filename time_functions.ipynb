{
 "cells": [
  {
   "cell_type": "code",
   "execution_count": 15,
   "metadata": {},
   "outputs": [
    {
     "name": "stdout",
     "output_type": "stream",
     "text": [
      "2019-08-06 12:48:16\n"
     ]
    }
   ],
   "source": [
    "#imports\n",
    "import datetime\n",
    "\n",
    "def time_diff_hours (date, time, start_time):\n",
    "    current_time = convert_to_timeDate(date,time)\n",
    "    elapsed_time = current_time - start_time\n",
    "    #changing elapsed time into hours\n",
    "    seconds = elapsed_time.total_seconds()\n",
    "    hours = round((seconds /60 /60),2)\n",
    "    return hours\n",
    "\n",
    "\n",
    "def convert_to_timeDate (date, time):\n",
    "    #getting the date\n",
    "    first_dash = date.find(\"/\")\n",
    "    month = int(date[first_dash- 1: first_dash])\n",
    "    half_date = date[first_dash + 1: len(date)]\n",
    "    second_dash = half_date.find(\"/\")\n",
    "    day = int(half_date[0: second_dash])\n",
    "    year = int(half_date[second_dash + 1: len(half_date)])\n",
    "    #getting the time\n",
    "    first_colon = time.find(\":\")\n",
    "    initial_hour = int(time[0 : first_colon])\n",
    "    half_time = time[first_colon + 1: len(time)]\n",
    "    second_colon = half_time.find(\":\")\n",
    "    minute = int(half_time[0: second_colon])\n",
    "    space = half_time.find(\" \")\n",
    "    second = int(half_time[second_colon + 1: space])\n",
    "    night = half_time[space + 1: len(half_time)]\n",
    "    if night == \"AM\":\n",
    "        if initial_hour == 12:\n",
    "            hour = 0\n",
    "        else:\n",
    "            hour = initial_hour\n",
    "    elif night == \"PM\":\n",
    "        if initial_hour == 12:\n",
    "            hour = 12\n",
    "        else:\n",
    "            hour = initial_hour + 12\n",
    "    #get timeDate\n",
    "    timeDate = datetime.datetime(year, month, day, hour, minute, second)\n",
    "    return timeDate\n",
    "\n",
    "\n",
    "def find_initial_time (DTlist):\n",
    "    times = []\n",
    "    i = 0\n",
    "    for item in DTlist:\n",
    "        comma = item.find(\",\")\n",
    "        date = item[0: comma]\n",
    "        time = item[comma + 2: len(item)]\n",
    "        date_time = convert_to_timeDate(date, time)\n",
    "        times.append(date_time)\n",
    "    first = min(times)\n",
    "    return first"
   ]
  },
  {
   "cell_type": "code",
   "execution_count": null,
   "metadata": {},
   "outputs": [],
   "source": []
  }
 ],
 "metadata": {
  "kernelspec": {
   "display_name": "Python 3",
   "language": "python",
   "name": "python3"
  },
  "language_info": {
   "codemirror_mode": {
    "name": "ipython",
    "version": 3
   },
   "file_extension": ".py",
   "mimetype": "text/x-python",
   "name": "python",
   "nbconvert_exporter": "python",
   "pygments_lexer": "ipython3",
   "version": "3.7.3"
  }
 },
 "nbformat": 4,
 "nbformat_minor": 2
}
