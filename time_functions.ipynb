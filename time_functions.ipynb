{
 "cells": [
  {
   "cell_type": "code",
   "execution_count": 5,
   "metadata": {},
   "outputs": [
    {
     "name": "stdout",
     "output_type": "stream",
     "text": [
      "21.49\n"
     ]
    }
   ],
   "source": [
    "#imports\n",
    "import datetime\n",
    "import linecache\n",
    "\n",
    "#initial information\n",
    "beginingDate = [\"8/6/2019\"]\n",
    "beginingTime = [\"12:48:16 PM\"]\n",
    "results_folder = \"/Users/user/projects/allee_effect/data/\"\n",
    "file_name = results_folder + \"07082019_ClearSeal_copy.txt\"\n",
    "\n",
    "#put intoData\n",
    "start_time = datetime.datetime(2019,8,6,12,48,16)\n",
    "# (year, month, day, hour(military), minute, second)\n",
    "date_line = \"8/7/2019\"\n",
    "time_line = \"10:17:30 AM\"\n",
    "\n",
    "def time_diff_hours (date, time, start_time):\n",
    "    \n",
    "    #getting the date\n",
    "    first_dash = date.find(\"/\")\n",
    "    month = int(date[first_dash- 1: first_dash])\n",
    "    half_date = date[first_dash + 1: len(date)]\n",
    "    second_dash = half_date.find(\"/\")\n",
    "    day = int(half_date[0: second_dash])\n",
    "    year = int(half_date[second_dash + 1: len(half_date)])\n",
    "\n",
    "    #getting the time\n",
    "    first_colon = time.find(\":\")\n",
    "    initial_hour = int(time[0 : first_colon])\n",
    "    half_time = time[first_colon + 1: len(time)]\n",
    "    second_colon = half_time.find(\":\")\n",
    "    minute = int(half_time[0: second_colon])\n",
    "    space = half_time.find(\" \")\n",
    "    second = int(half_time[second_colon + 1: space])\n",
    "    night = half_time[space + 1: len(half_time)]\n",
    "    if night == \"AM\":\n",
    "        hour = initial_hour\n",
    "    elif night == \"PM\":\n",
    "        hour = initial_hour + 12\n",
    "\n",
    "    #calculating elapsed time\n",
    "    time2 = datetime.datetime(year, month, day, hour, minute, second)\n",
    "    elapsed_time = time2 - start_time\n",
    "    \n",
    "    #changing elapsed time into hours\n",
    "    seconds = elapsed_time.total_seconds()\n",
    "    hours = round((seconds /60 /60),2)\n",
    "    \n",
    "    return hours\n",
    "\n",
    "answer = time_diff_hours(date_line, time_line, start_time)\n",
    "print(answer)\n",
    "\n",
    "#getting the OD values\n",
    "# rowA = linecache.getline(file_name, 40)[0:73]\n",
    "# rowB = linecache.getline(file_name, 41)[0:73]\n",
    "# rowC = linecache.getline(file_name, 42)[0:73]\n",
    "# rowD = linecache.getline(file_name, 43)[0:73]\n",
    "# rowE = linecache.getline(file_name, 44)[0:73]\n",
    "# rowF = linecache.getline(file_name, 45)[0:73]\n",
    "# rowG = linecache.getline(file_name, 46)[0:73]\n",
    "# rowH = linecache.getline(file_name, 47)[0:73]\n",
    "\n",
    "# print(rowA, rowB, rowC, rowD, rowE, rowF, rowG, rowH)"
   ]
  },
  {
   "cell_type": "code",
   "execution_count": null,
   "metadata": {},
   "outputs": [],
   "source": []
  }
 ],
 "metadata": {
  "kernelspec": {
   "display_name": "Python 3",
   "language": "python",
   "name": "python3"
  },
  "language_info": {
   "codemirror_mode": {
    "name": "ipython",
    "version": 3
   },
   "file_extension": ".py",
   "mimetype": "text/x-python",
   "name": "python",
   "nbconvert_exporter": "python",
   "pygments_lexer": "ipython3",
   "version": "3.7.3"
  }
 },
 "nbformat": 4,
 "nbformat_minor": 2
}
