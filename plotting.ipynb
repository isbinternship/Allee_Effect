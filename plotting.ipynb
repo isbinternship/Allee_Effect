{
 "cells": [
  {
   "cell_type": "code",
   "execution_count": 24,
   "metadata": {},
   "outputs": [],
   "source": [
    "import sys, os\n",
    "from datetime import datetime\n",
    "import datetime\n",
    "import numpy as np\n",
    "import pandas as pd\n",
    "import matplotlib.pyplot as plt\n",
    "\n",
    "data_directory = '/Users/user/Projects/allee_effect/data'\n",
    "\n",
    "def findVals(path, df=None):\n",
    "    dfStart = 'Results'\n",
    "    dfDate = ''\n",
    "    dfTime = ''\n",
    "    with open(path, 'rt', encoding = 'utf-8', errors='replace') as f:\n",
    "        if df is None:\n",
    "            for num, line in enumerate(f, 1):\n",
    "                if dfStart in line:\n",
    "                    return num\n",
    "        for line in f:\n",
    "            if 'Date' in line:\n",
    "                dfDate = line.split('\\t')[-1].strip('\\n')\n",
    "            if 'Time' in line:\n",
    "                dfTime = line.split('\\t')[-1].strip('\\n')\n",
    "                #dfTime = convert24(dfTime)\n",
    "                    \n",
    "    dT = ', '.join((dfDate, dfTime))\n",
    "    return dT\n",
    "\n",
    "def convert24(time):\n",
    "    hour = str(time.split(':')[0])\n",
    "    raw = str(time.split(' ')[0]).split(':', 1)[-1]\n",
    "    if 'AM' in time and hour == '12':\n",
    "        hour = '00'\n",
    "        return hour + ':' + raw\n",
    "    elif \"AM\" in time:\n",
    "        return str(hour) + ':' + raw\n",
    "    elif \"PM\" in time and hour == '12':\n",
    "        return hour + ':' + raw\n",
    "    elif \"PM\" in time:\n",
    "        hour = str(int(hour)+12)\n",
    "        return hour + ':' + raw\n",
    "\n",
    "def addMultiIndex(df, dT):\n",
    "    tempDf = df.copy()\n",
    "    tempColumns = tempDf.columns\n",
    "    newColumns = []\n",
    "    \n",
    "    for i in tempColumns:\n",
    "        if i <= 6:\n",
    "            newColumns.append((dT, 'MR', i))\n",
    "        elif i > 6:\n",
    "            newColumns.append((dT, 'MVF', i))\n",
    "            \n",
    "    return newColumns\n",
    "    \n",
    "def preprocess(data_directory):\n",
    "    reads_dfs = []\n",
    "    dateAndTime = []\n",
    "\n",
    "    for dirName, subdirList, fileList in os.walk(data_directory):\n",
    "        for fname in fileList:\n",
    "            extension = fname.split('.')[-1]\n",
    "            if extension == 'txt':\n",
    "                path = os.path.join(data_directory, fname)\n",
    "\n",
    "                df = pd.read_csv(path, skiprows=findVals(path), sep='\\t', header=0, index_col=0)\n",
    "                df.columns = (range(1, df.shape[1]+1))\n",
    "                df = df.drop(df.columns[-1], axis=1)\n",
    "\n",
    "                dfDateTime = findVals(path, df)\n",
    "                dateAndTime.append(dfDateTime)\n",
    "\n",
    "                #addMultiIndex(df)\n",
    "                df.columns = pd.MultiIndex.from_tuples(addMultiIndex(df, dfDateTime))\n",
    "                reads_dfs.append(df)\n",
    "\n",
    "    odVals = pd.concat(reads_dfs, axis=1)\n",
    "    \n",
    "    return odVals, dateAndTime\n",
    "\n",
    "odVals, dateAndTime = preprocess(data_directory)"
   ]
  },
  {
   "cell_type": "code",
   "execution_count": 47,
   "metadata": {},
   "outputs": [],
   "source": [
    "def time_diff_hours (current_time, start_time):\n",
    "    print(current_time, start_time)\n",
    "    elapsed_time = current_time - start_time\n",
    "    seconds = elapsed_time.total_seconds()\n",
    "    hours = round((seconds /60 /60),2)\n",
    "    return hours\n",
    "\n",
    "def convert_to_timeDate (date, time):\n",
    "    #getting the date\n",
    "    first_dash = date.find(\"/\")\n",
    "    month = int(date[first_dash- 1: first_dash])\n",
    "    half_date = date[first_dash + 1: len(date)]\n",
    "    second_dash = half_date.find(\"/\")\n",
    "    day = int(half_date[0: second_dash])\n",
    "    year = int(half_date[second_dash + 1: len(half_date)])\n",
    "    #getting the time\n",
    "    first_colon = time.find(\":\")\n",
    "    initial_hour = int(time[0 : first_colon])\n",
    "    half_time = time[first_colon + 1: len(time)]\n",
    "    second_colon = half_time.find(\":\")\n",
    "    minute = int(half_time[0: second_colon])\n",
    "    space = half_time.find(\" \")\n",
    "    second = int(half_time[second_colon + 1: space])\n",
    "    night = half_time[space + 1: len(half_time)]\n",
    "    if night == \"AM\":\n",
    "        if initial_hour == 12:\n",
    "            hour = 0\n",
    "        else:\n",
    "            hour = initial_hour\n",
    "    elif night == \"PM\":\n",
    "        if initial_hour == 12:\n",
    "            hour = 12\n",
    "        else:\n",
    "            hour = initial_hour + 12\n",
    "    #get timeDate\n",
    "    timeDate = datetime.datetime(year, month, day, hour, minute, second)\n",
    "    return timeDate\n",
    "\n",
    "def find_initial_time (times):\n",
    "    first = min(times)\n",
    "    return first\n",
    "\n",
    "def list_of_times (DTlist):\n",
    "    times = []\n",
    "    i = 0\n",
    "    for item in DTlist:\n",
    "        comma = item.find(\",\")\n",
    "        date = item[0: comma]\n",
    "        time = item[comma + 2: len(item)]\n",
    "        date_time = convert_to_timeDate(date, time)\n",
    "        times.append(date_time)\n",
    "    return times\n",
    "\n",
    "#main method\n",
    "def get_passedTime_array(DTlist):\n",
    "    other_times = list_of_times(DTlist)\n",
    "    first_time = find_initial_time(other_times)\n",
    "    #other_times = list_of_times(DTlist)\n",
    "    passed_time = []\n",
    "    for time in other_times:\n",
    "        elapsedTime = time_diff_hours(time, first_time)\n",
    "        passed_time.append(elapsedTime)\n",
    "    return passed_time"
   ]
  },
  {
   "cell_type": "code",
   "execution_count": 49,
   "metadata": {},
   "outputs": [
    {
     "data": {
      "text/plain": [
       "array([0.358, 0.352, 0.347, 0.379, 0.35 , 0.256])"
      ]
     },
     "execution_count": 49,
     "metadata": {},
     "output_type": "execute_result"
    }
   ],
   "source": [
    "MR1to2 = odVals.loc['A',(slice(None), 'MR', 1)].values\n",
    "MR1to2"
   ]
  },
  {
   "cell_type": "code",
   "execution_count": 48,
   "metadata": {},
   "outputs": [
    {
     "name": "stdout",
     "output_type": "stream",
     "text": [
      "2019-08-08 16:50:59 2019-08-06 12:48:16\n",
      "2019-08-09 09:52:50 2019-08-06 12:48:16\n",
      "2019-08-08 09:40:03 2019-08-06 12:48:16\n",
      "2019-08-07 17:04:39 2019-08-06 12:48:16\n",
      "2019-08-07 10:17:30 2019-08-06 12:48:16\n",
      "2019-08-06 12:48:16 2019-08-06 12:48:16\n"
     ]
    },
    {
     "data": {
      "text/plain": [
       "[52.05, 69.08, 44.86, 28.27, 21.49, 0.0]"
      ]
     },
     "execution_count": 48,
     "metadata": {},
     "output_type": "execute_result"
    }
   ],
   "source": [
    "get_passedTime_array(dateAndTime)"
   ]
  },
  {
   "cell_type": "code",
   "execution_count": null,
   "metadata": {},
   "outputs": [],
   "source": []
  }
 ],
 "metadata": {
  "kernelspec": {
   "display_name": "Python 3",
   "language": "python",
   "name": "python3"
  },
  "language_info": {
   "codemirror_mode": {
    "name": "ipython",
    "version": 3
   },
   "file_extension": ".py",
   "mimetype": "text/x-python",
   "name": "python",
   "nbconvert_exporter": "python",
   "pygments_lexer": "ipython3",
   "version": "3.7.3"
  }
 },
 "nbformat": 4,
 "nbformat_minor": 2
}
