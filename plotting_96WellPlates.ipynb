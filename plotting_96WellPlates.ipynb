{
 "cells": [
  {
   "cell_type": "code",
   "execution_count": 150,
   "metadata": {},
   "outputs": [],
   "source": [
    "import sys, os, datetime\n",
    "import numpy as np\n",
    "import pandas as pd\n",
    "import matplotlib.pyplot as plt\n",
    "\n",
    "data_directory = '/Users/user/Projects/allee_effect/data'\n",
    "\n",
    "def findVals(path, df=None):\n",
    "    dfStart = 'Results'\n",
    "    dfDate = ''\n",
    "    dfTime = ''\n",
    "    with open(path, 'rt', encoding = 'utf-8', errors='replace') as f:\n",
    "        if df is None:\n",
    "            for num, line in enumerate(f, 1):\n",
    "                if dfStart in line:\n",
    "                    return num\n",
    "        for line in f:\n",
    "            if 'Date' in line:\n",
    "                dfDate = line.split('\\t')[-1].strip('\\n')\n",
    "            if 'Time' in line:\n",
    "                dfTime = line.split('\\t')[-1].strip('\\n')\n",
    "    return dfDate, dfTime\n",
    "\n",
    "def addMultiIndex(df, date, time):\n",
    "    tempDf = df.copy()\n",
    "    tempColumns = tempDf.columns\n",
    "    dt = ', '.join((date, time))\n",
    "    \n",
    "    newColumns = []\n",
    "    for i in tempColumns:\n",
    "        if i <= 6:\n",
    "            newColumns.append((dt, 'MR', i))\n",
    "        elif i > 6:\n",
    "            newColumns.append((dt, 'MVF', i))\n",
    "    return newColumns\n",
    "    \n",
    "def time_diff_hours (dateTime):\n",
    "    dt = \n",
    "    \n",
    "    #calculating elapsed time\n",
    "    time2 = datetime.datetime(year, month, day, hour, second, milisecond)\n",
    "    elapsed_time = time2 - start_time\n",
    "    \n",
    "    #changing elapsed time into hours\n",
    "    seconds = elapsed_time.total_seconds()\n",
    "    hours = round((seconds /60 /60),2)\n",
    "    \n",
    "    return hours\n",
    "    \n",
    "def preprocess(data_directory):\n",
    "    reads_dfs = []\n",
    "    dateTime = []\n",
    "\n",
    "    for dirName, subdirList, fileList in os.walk(data_directory):\n",
    "        for fname in fileList:\n",
    "            extension = fname.split('.')[-1]\n",
    "            if extension == 'txt':\n",
    "                path = os.path.join(data_directory, fname)\n",
    "\n",
    "                df = pd.read_csv(path, skiprows=findVals(path), sep='\\t', header=0, index_col=0)\n",
    "                df.columns = (range(1, df.shape[1]+1))\n",
    "                df = df.drop(df.columns[-1], axis=1)\n",
    "\n",
    "                date, time = findVals(path, df)\n",
    "                dateTime.append((date, time))\n",
    "\n",
    "                #addMultiIndex(df)\n",
    "                df.columns = pd.MultiIndex.from_tuples(addMultiIndex(df, date, time))\n",
    "                reads_dfs.append(df)\n",
    "\n",
    "    odVals = pd.concat(reads_dfs, axis=1)\n",
    "    \n",
    "    return odVals, dateTime\n",
    "\n",
    "odVals, dateTime = preprocess(data_directory)"
   ]
  },
  {
   "cell_type": "code",
   "execution_count": 159,
   "metadata": {},
   "outputs": [
    {
     "data": {
      "text/plain": [
       "8/8/2019, 4:50:59 PM   MR  1    0.358\n",
       "                           2    0.372\n",
       "                           3    0.331\n",
       "                           4    0.366\n",
       "                           5    0.359\n",
       "                           6    0.375\n",
       "8/9/2019, 9:52:50 AM   MR  1    0.352\n",
       "                           2    0.351\n",
       "                           3    0.342\n",
       "                           4    0.380\n",
       "                           5    0.366\n",
       "                           6    0.351\n",
       "8/8/2019, 9:40:03 AM   MR  1    0.347\n",
       "                           2    0.337\n",
       "                           3    0.321\n",
       "                           4    0.356\n",
       "                           5    0.358\n",
       "                           6    0.324\n",
       "8/7/2019, 5:04:39 PM   MR  1    0.379\n",
       "                           2    0.356\n",
       "                           3    0.351\n",
       "                           4    0.376\n",
       "                           5    0.371\n",
       "                           6    0.356\n",
       "8/7/2019, 10:17:30 AM  MR  1    0.350\n",
       "                           2    0.351\n",
       "                           3    0.296\n",
       "                           4    0.291\n",
       "                           5    0.281\n",
       "                           6    0.288\n",
       "8/6/2019, 12:48:16 PM  MR  1    0.256\n",
       "                           2    0.257\n",
       "                           3    0.251\n",
       "                           4    0.240\n",
       "                           5    0.249\n",
       "                           6    0.221\n",
       "Name: A, dtype: float64"
      ]
     },
     "execution_count": 159,
     "metadata": {},
     "output_type": "execute_result"
    }
   ],
   "source": [
    "MR1to2 = odVals.loc['A',(slice(None), 'MR')]\n",
    "MR1to2XY = [[elapsedTime], []]"
   ]
  },
  {
   "cell_type": "code",
   "execution_count": 160,
   "metadata": {},
   "outputs": [
    {
     "data": {
      "text/plain": [
       "[('8/8/2019', '4:50:59 PM'),\n",
       " ('8/9/2019', '9:52:50 AM'),\n",
       " ('8/8/2019', '9:40:03 AM'),\n",
       " ('8/7/2019', '5:04:39 PM'),\n",
       " ('8/7/2019', '10:17:30 AM'),\n",
       " ('8/6/2019', '12:48:16 PM')]"
      ]
     },
     "execution_count": 160,
     "metadata": {},
     "output_type": "execute_result"
    }
   ],
   "source": [
    "dateTime"
   ]
  },
  {
   "cell_type": "code",
   "execution_count": null,
   "metadata": {},
   "outputs": [],
   "source": []
  }
 ],
 "metadata": {
  "kernelspec": {
   "display_name": "Python 3",
   "language": "python",
   "name": "python3"
  },
  "language_info": {
   "codemirror_mode": {
    "name": "ipython",
    "version": 3
   },
   "file_extension": ".py",
   "mimetype": "text/x-python",
   "name": "python",
   "nbconvert_exporter": "python",
   "pygments_lexer": "ipython3",
   "version": "3.7.3"
  }
 },
 "nbformat": 4,
 "nbformat_minor": 2
}
